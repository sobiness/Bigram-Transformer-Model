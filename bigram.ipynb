{
 "cells": [
  {
   "cell_type": "code",
   "execution_count": 76,
   "metadata": {},
   "outputs": [
    {
     "name": "stdout",
     "output_type": "stream",
     "text": [
      "tensor([1.], device='mps:0')\n"
     ]
    }
   ],
   "source": [
    "import torch\n",
    "import torch.nn as nn\n",
    "from torch.nn import functional as F\n",
    "if torch.backends.mps.is_available():\n",
    "    mps_device = torch.device(\"mps\")\n",
    "    x = torch.ones(1, device=mps_device)\n",
    "    print (x)\n",
    "else:\n",
    "    print (\"MPS device not found.\")\n",
    "\n",
    "block_size=8\n",
    "batch_size=4\n",
    "max_iters=10000\n",
    "learning_rate=3e-4\n",
    "eval_iters=250"
   ]
  },
  {
   "cell_type": "code",
   "execution_count": 77,
   "metadata": {},
   "outputs": [
    {
     "name": "stdout",
     "output_type": "stream",
     "text": [
      "['\\n', ' ', '!', '#', '&', '(', ')', ',', '-', '.', '0', '1', '2', '3', '5', '9', ':', ';', '?', 'A', 'B', 'C', 'D', 'E', 'F', 'G', 'H', 'I', 'J', 'K', 'L', 'M', 'N', 'O', 'P', 'Q', 'R', 'S', 'T', 'U', 'V', 'W', 'X', 'Y', 'Z', '[', ']', 'a', 'b', 'c', 'd', 'e', 'f', 'g', 'h', 'i', 'j', 'k', 'l', 'm', 'n', 'o', 'p', 'q', 'r', 's', 't', 'u', 'v', 'w', 'x', 'y', 'z', '—', '‘', '’', '“', '”']\n"
     ]
    }
   ],
   "source": [
    "with open('wizard_of_oz_plaintext.txt', 'r', encoding='utf-8') as f:\n",
    "    text=f.read()\n",
    "chars=sorted(set(text))\n",
    "print(chars)\n",
    "vocab_size=len(chars)\n"
   ]
  },
  {
   "cell_type": "code",
   "execution_count": 78,
   "metadata": {},
   "outputs": [],
   "source": [
    "string_to_int = { ch:i for i,ch in enumerate(chars) }\n",
    "int_to_string = { i:ch for i,ch in enumerate (chars)}\n",
    "encode = lambda s: [string_to_int[c] for c in s]\n",
    "decode = lambda l: ''.join([int_to_string[i] for i in l])\n",
    "data= torch.tensor(encode(text), dtype=torch.long)\n",
    "#print(data[:200])"
   ]
  },
  {
   "cell_type": "code",
   "execution_count": 84,
   "metadata": {},
   "outputs": [
    {
     "name": "stdout",
     "output_type": "stream",
     "text": [
      "inputs: \n",
      "tensor([[60,  1, 54, 55, 65,  1, 48, 64],\n",
      "        [57, 55, 60,  0, 69, 47, 65,  1],\n",
      "        [51, 71, 65,  0, 54, 47, 50,  1],\n",
      "        [61, 52,  1, 66, 54, 51,  1, 25]], device='mps:0')\n",
      "targets:\n",
      "tensor([[ 1, 54, 55, 65,  1, 48, 64, 51],\n",
      "        [55, 60,  0, 69, 47, 65,  1, 61],\n",
      "        [71, 65,  0, 54, 47, 50,  1, 54],\n",
      "        [52,  1, 66, 54, 51,  1, 25, 61]], device='mps:0')\n"
     ]
    }
   ],
   "source": [
    "n = int(0.8*len(data))\n",
    "train_data = data[:n]\n",
    "val_data = data[n:]\n",
    "def get_batch(split):\n",
    "    data = train_data if split == 'train' else val_data\n",
    "    ix = torch.randint(len(data) - block_size, (batch_size,))\n",
    "    #print(ix)\n",
    "    x = torch.stack([data[i:i+block_size] for i in ix])\n",
    "    y = torch.stack([data[i+1:i+block_size+1] for i in ix])\n",
    "    x,y = x.to(mps_device), y.to(mps_device)\n",
    "    return x, y\n",
    "    \n",
    "x, y = get_batch('train')\n",
    "print ('inputs: ')\n",
    "# print (x.shape)\n",
    "print(x)\n",
    "print ('targets:')\n",
    "print(y)\n",
    "#print(x.device)\n"
   ]
  },
  {
   "cell_type": "code",
   "execution_count": 85,
   "metadata": {},
   "outputs": [],
   "source": [
    "@torch.no_grad()\n",
    "def estimate_loss():\n",
    "    out = {}\n",
    "    model.eval()\n",
    "    for split in ['train', 'val']:\n",
    "        losses = torch.zeros(eval_iters)\n",
    "        for k in range(eval_iters):\n",
    "            X, Y = get_batch(split)\n",
    "            logits, loss = model(X, Y)\n",
    "            losses[k] = loss.item()\n",
    "        out[split] = losses.mean()\n",
    "    model.train()\n",
    "    return out"
   ]
  },
  {
   "cell_type": "code",
   "execution_count": 86,
   "metadata": {},
   "outputs": [
    {
     "name": "stdout",
     "output_type": "stream",
     "text": [
      "when input is tensor([0]) target is tensor(0)\n",
      "when input is tensor([0, 0]) target is tensor(38)\n",
      "when input is tensor([ 0,  0, 38]) target is tensor(55)\n",
      "when input is tensor([ 0,  0, 38, 55]) target is tensor(66)\n",
      "when input is tensor([ 0,  0, 38, 55, 66]) target is tensor(58)\n",
      "when input is tensor([ 0,  0, 38, 55, 66, 58]) target is tensor(51)\n",
      "when input is tensor([ 0,  0, 38, 55, 66, 58, 51]) target is tensor(16)\n",
      "when input is tensor([ 0,  0, 38, 55, 66, 58, 51, 16]) target is tensor(1)\n"
     ]
    }
   ],
   "source": [
    "\n",
    "x = train_data[:block_size]\n",
    "y = train_data[1:block_size+1]\n",
    "for t in range(block_size):\n",
    "    context = x[:t+1]\n",
    "    target = y[t]\n",
    "    print( 'when input is', context, 'target is', target)"
   ]
  },
  {
   "cell_type": "code",
   "execution_count": 87,
   "metadata": {},
   "outputs": [
    {
     "name": "stdout",
     "output_type": "stream",
     "text": [
      "\n",
      "g]w9F’ej CpPDCdz9(pAsDDKc&T;pSTL5H#3dZKuPcE[CuYNd?G9 fyjDDPe,enW2)Tn dT9Jur&OP?jbft:C Y,h(2).AzQxw’pN)U3wzyfWbXyeIqo”TXlyFpVqLF’’-O“-C!NcV3z”,“VPDkgxtvfC#e-N-U#3F’EgsK.)LAiRrE“.RS[D”fs2)rZ]V53bE’TXMLZdSvYXe[2dKi‘Exl’[j1)‘nI—I;r)lyo)&EXbOu“GnsGkZ2)URp-2q\n",
      "w3S[5?Rp C,tEBZqX3mlKffSw’-dK(esP3o\n",
      "aSpOHhO\n",
      "YdSmg&]eeu“-BfS.dS&o5‘rEF’rEEZSLFgRQc30“vtW‘fB”sS[YXextPAJ[OFAOkj).Wu]pVKiOz\n",
      "“gvDgRspJGrVf&Ku&z0ilFdJ!VZlUEaE3df!MDLYX\n",
      ";wt]wz’LOoYbyPJ.KE’,)G23)s‘1?t)Ktq[c[X“hyo.“3FWP“Kt]Su‘ObXU.hh(cKRFcf#i‘Ti’e’1:k0“d\n"
     ]
    }
   ],
   "source": [
    "class GPTLanguageModel(nn.Module):\n",
    "    def __init__(self,vocab_size):\n",
    "        super().__init__()\n",
    "        self.token_embedding_table=nn.Embedding(vocab_size, vocab_size)\n",
    "    def forward(self,index,targets=None):\n",
    "        logits=self.token_embedding_table(index)\n",
    "        if targets is None:\n",
    "            loss=None\n",
    "        else:\n",
    "            B, T, C= logits.shape\n",
    "            logits=logits.view(B*T, C)\n",
    "            targets=targets.view(B*T)\n",
    "            loss=F.cross_entropy(logits, targets)\n",
    "        return logits, loss\n",
    "    def generate(self, index, max_new_tokens) :\n",
    "        # index is (B, T) array of indices in the current context\n",
    "        for _ in range (max_new_tokens) :\n",
    "            # get the predictions\n",
    "            logits, loss = self.forward(index)\n",
    "            # focus only on the last time step\n",
    "            logits = logits[:, -1, :] # becomes (B, C)\n",
    "            # apply softmax to get probabilities\n",
    "            probs = F.softmax(logits, dim=-1) # (B, C)\n",
    "            # sample from the distribution\n",
    "            index_next = torch.multinomial (probs, num_samples=1) # (B, 1)\n",
    "            # append sampled index to the running sequence\n",
    "            index = torch. cat ((index, index_next), dim=1) # (B, T+1)\n",
    "        return index\n",
    "\n",
    "model=BigramLanguageModel(vocab_size)\n",
    "m=model.to(mps_device)\n",
    "\n",
    "context=torch.zeros((1,1), dtype=torch.long, device=mps_device)\n",
    "generated_chars=decode(m.generate(context, max_new_tokens=500)[0].tolist())\n",
    "print(generated_chars)\n",
    "    "
   ]
  },
  {
   "cell_type": "code",
   "execution_count": 88,
   "metadata": {},
   "outputs": [
    {
     "name": "stdout",
     "output_type": "stream",
     "text": [
      "step: 0, train loss: 4.799, val loss: 4.777\n",
      "step: 250, train loss: 4.755, val loss: 4.734\n",
      "step: 500, train loss: 4.672, val loss: 4.684\n",
      "step: 750, train loss: 4.590, val loss: 4.609\n",
      "step: 1000, train loss: 4.528, val loss: 4.554\n",
      "step: 1250, train loss: 4.492, val loss: 4.474\n",
      "step: 1500, train loss: 4.435, val loss: 4.434\n",
      "step: 1750, train loss: 4.360, val loss: 4.366\n",
      "step: 2000, train loss: 4.305, val loss: 4.302\n",
      "step: 2250, train loss: 4.266, val loss: 4.263\n",
      "step: 2500, train loss: 4.210, val loss: 4.197\n",
      "step: 2750, train loss: 4.149, val loss: 4.145\n",
      "step: 3000, train loss: 4.103, val loss: 4.091\n",
      "step: 3250, train loss: 4.047, val loss: 4.063\n",
      "step: 3500, train loss: 4.012, val loss: 4.030\n",
      "step: 3750, train loss: 3.957, val loss: 3.953\n",
      "step: 4000, train loss: 3.899, val loss: 3.907\n",
      "step: 4250, train loss: 3.846, val loss: 3.850\n",
      "step: 4500, train loss: 3.817, val loss: 3.816\n",
      "step: 4750, train loss: 3.775, val loss: 3.795\n",
      "step: 5000, train loss: 3.710, val loss: 3.735\n",
      "step: 5250, train loss: 3.689, val loss: 3.700\n",
      "step: 5500, train loss: 3.645, val loss: 3.674\n",
      "step: 5750, train loss: 3.605, val loss: 3.626\n",
      "step: 6000, train loss: 3.563, val loss: 3.575\n",
      "step: 6250, train loss: 3.513, val loss: 3.529\n",
      "step: 6500, train loss: 3.479, val loss: 3.500\n",
      "step: 6750, train loss: 3.461, val loss: 3.465\n",
      "step: 7000, train loss: 3.405, val loss: 3.413\n",
      "step: 7250, train loss: 3.367, val loss: 3.383\n",
      "step: 7500, train loss: 3.362, val loss: 3.345\n",
      "step: 7750, train loss: 3.321, val loss: 3.329\n",
      "step: 8000, train loss: 3.286, val loss: 3.310\n",
      "step: 8250, train loss: 3.260, val loss: 3.277\n",
      "step: 8500, train loss: 3.251, val loss: 3.224\n",
      "step: 8750, train loss: 3.198, val loss: 3.192\n",
      "step: 9000, train loss: 3.171, val loss: 3.165\n",
      "step: 9250, train loss: 3.127, val loss: 3.161\n",
      "step: 9500, train loss: 3.112, val loss: 3.137\n",
      "step: 9750, train loss: 3.099, val loss: 3.108\n",
      "3.1125972270965576\n"
     ]
    }
   ],
   "source": [
    "# create a PyTorch optimizer\n",
    "optimizer = torch.optim.AdamW(model.parameters(), lr=learning_rate)\n",
    "\n",
    "for iter in range(max_iters):\n",
    "    if iter % eval_iters == 0:\n",
    "        losses = estimate_loss()\n",
    "        print(f\"step: {iter}, train loss: {losses['train']:.3f}, val loss: {losses['val']:.3f}\")\n",
    "\n",
    "    # sample a batch of data\n",
    "    xb, yb = get_batch('train')\n",
    "\n",
    "    # evaluate the loss\n",
    "    logits, loss = model.forward(xb, yb)\n",
    "    optimizer.zero_grad(set_to_none=True)\n",
    "    loss.backward()\n",
    "    optimizer.step()\n",
    "print(loss.item())"
   ]
  },
  {
   "cell_type": "code",
   "execution_count": null,
   "metadata": {},
   "outputs": [],
   "source": []
  }
 ],
 "metadata": {
  "kernelspec": {
   "display_name": "cuda-gpt",
   "language": "python",
   "name": "cuda"
  },
  "language_info": {
   "codemirror_mode": {
    "name": "ipython",
    "version": 3
   },
   "file_extension": ".py",
   "mimetype": "text/x-python",
   "name": "python",
   "nbconvert_exporter": "python",
   "pygments_lexer": "ipython3",
   "version": "3.11.4"
  }
 },
 "nbformat": 4,
 "nbformat_minor": 4
}
